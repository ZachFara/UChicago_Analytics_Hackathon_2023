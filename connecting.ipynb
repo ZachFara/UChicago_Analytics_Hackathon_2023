{
 "cells": [
  {
   "cell_type": "code",
   "execution_count": 2,
   "metadata": {},
   "outputs": [],
   "source": [
    "\n",
    "credentials = {\"ClientID\":\"dbYLiOevJlEFQTxdTAVHTtRlUMluMKKj\",\"ClientSecret\":\"71JoD7Q1tS9b2KAtfQPgNdEogPWAys0AOlzc7f4KDhFmu9Tu7NuN9X1bwwhW1Oq7\"}\n",
    "\n",
    "from pyensign.ensign import Ensign\n",
    "\n",
    "\n",
    "client = Ensign(client_id=credentials[\"ClientID\"], client_secret=credentials[\"ClientSecret\"])\n"
   ]
  },
  {
   "cell_type": "code",
   "execution_count": 5,
   "metadata": {},
   "outputs": [],
   "source": [
    "from pyensign.events import Event\n",
    "\n",
    "await client.ensure_topic_exists(\"Earthquake_0001\")\n",
    "\n",
    "# Publishing a single event\n",
    "event = Event(b'{\"temp\": 72, \"units\": \"fahrenheit\"}', \"application/json\")\n",
    "await client.publish(\"Earthquake_0001\", event)\n",
    "\n",
    "# Publishing multiple events\n",
    "events = [\n",
    "    Event(b'{\"temp\": 81, \"units\": \"fahrenheit\"}', \"application/json\"),\n",
    "    Event(b'{\"temp\": 100, \"units\": \"fahrenheit\"}', \"application/json\")\n",
    "]\n",
    "await client.publish(\"Earthquake_0001\", events)"
   ]
  },
  {
   "cell_type": "code",
   "execution_count": null,
   "metadata": {},
   "outputs": [],
   "source": []
  }
 ],
 "metadata": {
  "kernelspec": {
   "display_name": "Python 3",
   "language": "python",
   "name": "python3"
  },
  "language_info": {
   "codemirror_mode": {
    "name": "ipython",
    "version": 3
   },
   "file_extension": ".py",
   "mimetype": "text/x-python",
   "name": "python",
   "nbconvert_exporter": "python",
   "pygments_lexer": "ipython3",
   "version": "3.11.4"
  }
 },
 "nbformat": 4,
 "nbformat_minor": 2
}
