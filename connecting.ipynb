{
 "cells": [
  {
   "cell_type": "code",
   "execution_count": 10,
   "metadata": {},
   "outputs": [
    {
     "name": "stdout",
     "output_type": "stream",
     "text": [
      "Collecting certifi==2023.5.7\n",
      "  Using cached certifi-2023.5.7-py3-none-any.whl (156 kB)\n",
      "Collecting charset-normalizer==3.1.0\n",
      "  Downloading charset_normalizer-3.1.0-cp310-cp310-macosx_11_0_arm64.whl (123 kB)\n",
      "\u001b[2K     \u001b[90m━━━━━━━━━━━━━━━━━━━━━━━━━━━━━━━━━━━━━━━\u001b[0m \u001b[32m123.0/123.0 kB\u001b[0m \u001b[31m2.4 MB/s\u001b[0m eta \u001b[36m0:00:00\u001b[0m00:01\u001b[0m\n",
      "\u001b[?25hCollecting grpcio==1.56.0\n",
      "  Downloading grpcio-1.56.0-cp310-cp310-macosx_12_0_universal2.whl (8.8 MB)\n",
      "\u001b[2K     \u001b[90m━━━━━━━━━━━━━━━━━━━━━━━━━━━━━━━━━━━━━━━━\u001b[0m \u001b[32m8.8/8.8 MB\u001b[0m \u001b[31m3.4 MB/s\u001b[0m eta \u001b[36m0:00:00\u001b[0m00:01\u001b[0m00:01\u001b[0m\n",
      "\u001b[?25hRequirement already satisfied: idna==3.4 in /opt/homebrew/lib/python3.10/site-packages (from -r requirements.txt (line 4)) (3.4)\n",
      "Collecting protobuf==4.23.3\n",
      "  Using cached protobuf-4.23.3-cp37-abi3-macosx_10_9_universal2.whl (400 kB)\n",
      "Collecting pyensign==0.8.0b0\n",
      "  Using cached pyensign-0.8b0-py3-none-any.whl (42 kB)\n",
      "Collecting PyJWT==2.7.0\n",
      "  Using cached PyJWT-2.7.0-py3-none-any.whl (22 kB)\n",
      "Collecting python-ulid==1.1.0\n",
      "  Using cached python_ulid-1.1.0-py3-none-any.whl (9.4 kB)\n",
      "Requirement already satisfied: requests==2.31.0 in /opt/homebrew/lib/python3.10/site-packages (from -r requirements.txt (line 9)) (2.31.0)\n",
      "Collecting urllib3==2.0.3\n",
      "  Using cached urllib3-2.0.3-py3-none-any.whl (123 kB)\n",
      "Installing collected packages: urllib3, python-ulid, PyJWT, protobuf, grpcio, charset-normalizer, certifi, pyensign\n",
      "  Attempting uninstall: urllib3\n",
      "    Found existing installation: urllib3 2.0.6\n",
      "    Uninstalling urllib3-2.0.6:\n",
      "      Successfully uninstalled urllib3-2.0.6\n",
      "  Attempting uninstall: charset-normalizer\n",
      "    Found existing installation: charset-normalizer 3.3.0\n",
      "    Uninstalling charset-normalizer-3.3.0:\n",
      "      Successfully uninstalled charset-normalizer-3.3.0\n",
      "  Attempting uninstall: certifi\n",
      "    Found existing installation: certifi 2023.7.22\n",
      "    Uninstalling certifi-2023.7.22:\n",
      "      Successfully uninstalled certifi-2023.7.22\n",
      "Successfully installed PyJWT-2.7.0 certifi-2023.5.7 charset-normalizer-3.1.0 grpcio-1.56.0 protobuf-4.23.3 pyensign-0.8b0 python-ulid-1.1.0 urllib3-2.0.3\n",
      "\n",
      "\u001b[1m[\u001b[0m\u001b[34;49mnotice\u001b[0m\u001b[1;39;49m]\u001b[0m\u001b[39;49m A new release of pip is available: \u001b[0m\u001b[31;49m23.0.1\u001b[0m\u001b[39;49m -> \u001b[0m\u001b[32;49m23.2.1\u001b[0m\n",
      "\u001b[1m[\u001b[0m\u001b[34;49mnotice\u001b[0m\u001b[1;39;49m]\u001b[0m\u001b[39;49m To update, run: \u001b[0m\u001b[32;49mpython3.10 -m pip install --upgrade pip\u001b[0m\n"
     ]
    }
   ],
   "source": [
    "!pip3.10 install -r requirements.txt"
   ]
  },
  {
   "cell_type": "code",
   "execution_count": 9,
   "metadata": {},
   "outputs": [],
   "source": [
    "import requests"
   ]
  },
  {
   "cell_type": "code",
   "execution_count": 2,
   "metadata": {},
   "outputs": [],
   "source": [
    "\n",
    "credentials = {\"ClientID\":\"dbYLiOevJlEFQTxdTAVHTtRlUMluMKKj\",\"ClientSecret\":\"71JoD7Q1tS9b2KAtfQPgNdEogPWAys0AOlzc7f4KDhFmu9Tu7NuN9X1bwwhW1Oq7\"}\n",
    "\n",
    "from pyensign.ensign import Ensign\n",
    "\n",
    "\n",
    "client = Ensign(client_id=credentials[\"ClientID\"], client_secret=credentials[\"ClientSecret\"])\n"
   ]
  },
  {
   "cell_type": "code",
   "execution_count": 5,
   "metadata": {},
   "outputs": [],
   "source": [
    "from pyensign.events import Event\n",
    "\n",
    "await client.ensure_topic_exists(\"Earthquake_0001\")\n",
    "\n",
    "# Publishing a single event\n",
    "event = Event(b'{\"temp\": 72, \"units\": \"fahrenheit\"}', \"application/json\")\n",
    "await client.publish(\"Earthquake_0001\", event)\n",
    "\n",
    "# Publishing multiple events\n",
    "events = [\n",
    "    Event(b'{\"temp\": 81, \"units\": \"fahrenheit\"}', \"application/json\"),\n",
    "    Event(b'{\"temp\": 100, \"units\": \"fahrenheit\"}', \"application/json\")\n",
    "]\n",
    "await client.publish(\"Earthquake_0001\", events)"
   ]
  }
 ],
 "metadata": {
  "kernelspec": {
   "display_name": "Python 3",
   "language": "python",
   "name": "python3"
  },
  "language_info": {
   "codemirror_mode": {
    "name": "ipython",
    "version": 3
   },
   "file_extension": ".py",
   "mimetype": "text/x-python",
   "name": "python",
   "nbconvert_exporter": "python",
   "pygments_lexer": "ipython3",
   "version": "3.10.12"
  }
 },
 "nbformat": 4,
 "nbformat_minor": 2
}
